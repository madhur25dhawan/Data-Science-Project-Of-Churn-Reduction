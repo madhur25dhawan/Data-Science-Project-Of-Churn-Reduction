{
 "cells": [
  {
   "cell_type": "code",
   "execution_count": 168,
   "metadata": {},
   "outputs": [],
   "source": [
    "import os\n",
    "import pandas as pd\n",
    "import numpy as np\n",
    "from sklearn.ensemble import RandomForestClassifier\n",
    "from sklearn import tree\n",
    "from sklearn.metrics import accuracy_score\n",
    "from sklearn.cross_validation import train_test_split\n",
    "from sklearn.ensemble import RandomForestClassifier\n",
    "from sklearn.metrics import confusion_matrix\n",
    "%matplotlib inline \n",
    "import matplotlib as plt\n",
    "\n",
    "os.chdir(\"E:/data scientist/project edwiser/project 1\")"
   ]
  },
  {
   "cell_type": "code",
   "execution_count": 178,
   "metadata": {},
   "outputs": [],
   "source": [
    "testdata = pd.read_csv(\"test_data.csv\")\n",
    "traindata = pd.read_csv(\"train_data.csv\")"
   ]
  },
  {
   "cell_type": "code",
   "execution_count": 179,
   "metadata": {},
   "outputs": [],
   "source": [
    "mydata=traindata\n",
    "mytest=testdata\n"
   ]
  },
  {
   "cell_type": "code",
   "execution_count": 180,
   "metadata": {},
   "outputs": [],
   "source": [
    "#---------------------------------------------Exploratory Data Analysis------------------------------------------------------\n",
    "\n",
    "# change type of varables in proper type\n",
    "mydata['Churn']=mydata['Churn'].replace([\" False.\",\" True.\"],[0,1])\n",
    "mydata['international plan']=mydata['international plan'].replace([\" no\",\" yes\"],[0,1])\n",
    "mydata['voice mail plan']=mydata['voice mail plan'].replace([\" no\",\" yes\"],[0,1])\n",
    "\n",
    "mytest['Churn']=mytest['Churn'].replace([\" False.\",\" True.\"],[0,1])\n",
    "mytest['international plan']=mytest['international plan'].replace([\" no\",\" yes\"],[0,1])\n",
    "mytest['voice mail plan']=mytest['voice mail plan'].replace([\" no\",\" yes\"],[0,1])"
   ]
  },
  {
   "cell_type": "code",
   "execution_count": 44,
   "metadata": {
    "collapsed": true
   },
   "outputs": [
    {
     "data": {
      "text/plain": [
       "state                            0\n",
       "account length                   0\n",
       "area code                        0\n",
       "phone number                     0\n",
       "international plan               0\n",
       "voice mail plan                  0\n",
       "number vmail messages            0\n",
       "total day minutes                0\n",
       "total day calls                  0\n",
       "total day charge                 0\n",
       "total eve minutes                0\n",
       "total eve calls                  0\n",
       "total eve charge                 0\n",
       "total night minutes              0\n",
       "total night calls                0\n",
       "total night charge               0\n",
       "total intl minutes               0\n",
       "total intl calls                 0\n",
       "total intl charge                0\n",
       "number customer service calls    0\n",
       "Churn                            0\n",
       "dtype: int64"
      ]
     },
     "execution_count": 44,
     "metadata": {},
     "output_type": "execute_result"
    }
   ],
   "source": [
    "#--------------------------------------------Missing value Analysis--------------------------------------------------------\n",
    "mydata.isnull().sum()\n",
    "mytest.isnull().sum()\n",
    "#there is no missing value present"
   ]
  },
  {
   "cell_type": "code",
   "execution_count": 124,
   "metadata": {
    "collapsed": true
   },
   "outputs": [
    {
     "name": "stdout",
     "output_type": "stream",
     "text": [
      "account length\n",
      "min=  -5.5\n",
      "max=  206.5\n",
      "area code\n",
      "min=  255.0\n",
      "max=  663.0\n",
      "number vmail messages\n",
      "min=  -30.0\n",
      "max=  50.0\n",
      "total day minutes\n",
      "min=  34.65\n",
      "max=  325.45\n",
      "total day calls\n",
      "min=  46.5\n",
      "max=  154.5\n",
      "total day charge\n",
      "min=  5.89\n",
      "max=  55.33\n",
      "total eve minutes\n",
      "min=  63.55\n",
      "max=  338.35\n",
      "total eve calls\n",
      "min=  46.5\n",
      "max=  154.5\n",
      "total eve charge\n",
      "min=  5.4\n",
      "max=  28.76\n",
      "total night minutes\n",
      "min=  64.55\n",
      "max=  337.75\n",
      "total night calls\n",
      "min=  48.0\n",
      "max=  152.0\n",
      "total night charge\n",
      "min=  2.915\n",
      "max=  15.195\n",
      "total intl minutes\n",
      "min=  3.1\n",
      "max=  17.5\n",
      "total intl calls\n",
      "min=  -1.5\n",
      "max=  10.5\n",
      "total intl charge\n",
      "min=  0.845\n",
      "max=  4.725\n",
      "number customer service calls\n",
      "min=  -0.5\n",
      "max=  3.5\n"
     ]
    }
   ],
   "source": [
    "#----------------------------------------------------Outlier Analysis------------------------------------------------------\n",
    "%matplotlib inline\n",
    "#checking outliers with boxplot of numeric varables And replacing with max value\n",
    "#storing numeric varables\n",
    "allcol=mydata\n",
    "#storing numerical varables only\n",
    "allcol=allcol.drop(['state','international plan','voice mail plan','Churn','phone number'],axis=1) \n",
    "numer=allcol.columns  #storing column names of numerical varables\n",
    "#creating loop that detect outlier and replace with max and min value present in particular varable\n",
    "for i in numer:\n",
    "    print(i)\n",
    "    q75, q25= np.percentile(allcol.loc[:,i],[75,25])\n",
    "    iqr=q75-q25\n",
    "    min=q25-(1.5*iqr)\n",
    "    max=q75+(1.5*iqr)\n",
    "    print(\"min= \",min)\n",
    "    print(\"max= \", max)\n",
    "    mydata[mydata.loc[:,i]<min]=min\n",
    "    mydata[mydata.loc[:,i]>max]=max\n"
   ]
  },
  {
   "cell_type": "code",
   "execution_count": 181,
   "metadata": {},
   "outputs": [],
   "source": [
    "#---------------------------------------------Feature Selection---------------------------------------------------------------\n",
    "import seaborn as sns\n",
    "#setting height and width\n",
    "#f,ax= plt.subplots(figsize=(7,5))\n",
    "corr=allcol.corr()\n",
    "\n",
    "#sns.heatmap(corr,mask=np.zero_like(corr,dtype=np.bool),cmap=sns.diverging_palette(200,10,as_cmap=True),square=True,ax=ax)\n",
    "\n",
    "mydata=mydata.drop(['total day minutes','total night charge','total intl charge','total eve charge','phone number','state'],axis=1)\n",
    "mytest=mytest.drop(['total day minutes','total night charge','total intl charge','total eve charge','phone number','state'],axis=1)"
   ]
  },
  {
   "cell_type": "code",
   "execution_count": 184,
   "metadata": {},
   "outputs": [],
   "source": [
    "#**************************************************************************************************\n",
    "#                                  Decision Tree model using C50\n",
    "#***************************************************************************************************\n",
    "x=mydata.values[:,0:14]\n",
    "y=mydata.values[:,14]\n",
    "\n",
    "#perform decision tree algo\n",
    "clf=tree.DecisionTreeClassifier(criterion=\"entropy\").fit(x,y)\n",
    "\n",
    "pred_value=clf.predict(mytest.iloc[:,0:14])\n",
    "\n",
    "#confusion matrix\n",
    "conf_matrix=confusion_matrix(mytest['Churn'],pred_value)\n",
    "\n",
    "conf_matrix_table=pd.crosstab(mytest['Churn'],pred_value)\n",
    "\n",
    "#Saving true postive, true negtive,false postive, false negtive\n",
    "true_neg=conf_matrix_table.iloc[0,0]\n",
    "false_neg=conf_matrix_table.iloc[1,0]\n",
    "true_post=conf_matrix_table.iloc[1,1]\n",
    "false_post=conf_matrix_table.iloc[0,1]\n",
    "\n",
    "#accuracy calculation\n",
    "\n",
    "dTree_accu=accuracy_score(mytest['Churn'],pred_value)*100\n",
    "\n",
    "dTree_accu=((true_post+true_neg)*100)/(true_neg+true_post+false_post+false_neg)\n",
    "\n",
    "# false negtive rate calculation\n",
    "\n",
    "false_negrate=(false_neg*100)/(false_neg+true_post)\n",
    "\n",
    "# calculation of Recall\n",
    "\n",
    "recall=(true_post*100)/(true_post+false_neg)\n",
    "\n",
    "\n",
    "## Accuracy= 93.161    False Negtive Rate=29.464"
   ]
  },
  {
   "cell_type": "code",
   "execution_count": 185,
   "metadata": {},
   "outputs": [],
   "source": [
    "# Random Forest Classifier\n",
    "\n",
    "model_rf=RandomForestClassifier(n_estimators=2000).fit(x,y)\n",
    "\n",
    "pred_value_rf=model_rf.predict(mytest.iloc[:,0:14])\n",
    "\n",
    "#confusion matrix\n",
    "conf_matrix_rf=confusion_matrix(mytest['Churn'],pred_value_rf)\n",
    "\n",
    "conf_matrix_rftable=pd.crosstab(mytest['Churn'],pred_value_rf)\n",
    "\n",
    "rftrue_neg=conf_matrix_rftable.iloc[0,0]\n",
    "rffalse_neg=conf_matrix_rftable.iloc[1,0]\n",
    "rftrue_post=conf_matrix_rftable.iloc[1,1]\n",
    "rffalse_post=conf_matrix_rftable.iloc[0,1]\n",
    "\n",
    "#accuracy calculation\n",
    "\n",
    "#randamf_accu=accuracy_score(mytest['Churn'],pred_value_rf)*100\n",
    "\n",
    "randam_accu=((rftrue_post+rftrue_neg)*100)/(rftrue_neg+rftrue_post+rffalse_post+rffalse_neg)\n",
    "\n",
    "# false negtive rate calculation\n",
    "\n",
    "false_neg_raterf=(rffalse_neg*100)/(rffalse_neg+rftrue_post)\n",
    "\n",
    "# calculation of Recall\n",
    "\n",
    "rf_recall=(rftrue_post*100)/(rftrue_post+rffalse_neg)\n",
    "\n",
    "\n",
    "## Accuracy= 96.160    False Negtive Rate=26.339\n"
   ]
  }
 ],
 "metadata": {
  "kernelspec": {
   "display_name": "Python 3",
   "language": "python",
   "name": "python3"
  },
  "language_info": {
   "codemirror_mode": {
    "name": "ipython",
    "version": 3
   },
   "file_extension": ".py",
   "mimetype": "text/x-python",
   "name": "python",
   "nbconvert_exporter": "python",
   "pygments_lexer": "ipython3",
   "version": "3.6.5"
  }
 },
 "nbformat": 4,
 "nbformat_minor": 2
}
